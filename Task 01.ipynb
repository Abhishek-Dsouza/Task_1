{
 "cells": [
  {
   "cell_type": "markdown",
   "id": "ae116ed6-ade5-464b-aaa3-a4a1ff673098",
   "metadata": {},
   "source": [
    "# Task 1"
   ]
  },
  {
   "cell_type": "markdown",
   "id": "b6ea2702-ce25-46eb-b3e0-7996207b2910",
   "metadata": {},
   "source": [
    "## Q1. Create a function which will take a list as an argument and return the product of all the numbers after creating a flat list. Use the below-given list as an argument for your function.\n",
    "#### list1 = [1,2,3,4, [44,55,66, True], False, (34,56,78,89,34), {1,2,3,3,2,1}, {1:34, \"key2\": [55, 67, 78, 89], 4: (45, 22, 61, 34)}, [56, 'data science'], 'Machine Learning']\n",
    "#### Note: you must extract numeric keys and values of the dictionary also.\n",
    "\n",
    "### Answer:"
   ]
  },
  {
   "cell_type": "code",
   "execution_count": 30,
   "id": "ac7453d6-9f4b-41e4-9fd5-d2bf67efa64f",
   "metadata": {},
   "outputs": [],
   "source": [
    "l1=[1,2,3,4, [44,55,66, True], False, (34,56,78,89,34), {1,2,3,3,2,1}, {1:34, \"key2\": [55, 67, 78, 89], 4: (45,\n",
    "22, 61, 34)}, [56, 'data science'], 'Machine Learning']"
   ]
  },
  {
   "cell_type": "code",
   "execution_count": 31,
   "id": "b34ae706-26d1-4d91-b0ce-ff9c9437dc89",
   "metadata": {},
   "outputs": [],
   "source": [
    "def product_of_list_int_values(list1):\n",
    "    flat_list =[]\n",
    "    for i in list1:\n",
    "        if isinstance(i,(list,tuple,set)):\n",
    "            for j in i:\n",
    "                if type(j)==int:\n",
    "                    flat_list.append(j)\n",
    "        elif type(i)==int:\n",
    "            flat_list.append(i)\n",
    "        elif isinstance(i,(dict)):\n",
    "            for x in i.values():\n",
    "                if type(x)==int:\n",
    "                    flat_list.append(x)\n",
    "                elif isinstance(x,(list,tuple)):\n",
    "                    for y in x:\n",
    "                        if type(y)==int:\n",
    "                            flat_list.append(y)\n",
    "            for z in i.keys():\n",
    "                 if type(z)==int:\n",
    "                        flat_list.append(z)\n",
    "                        \n",
    "                 \n",
    "    \n",
    "    product = 1\n",
    "    for a in flat_list:\n",
    "        product=product*a\n",
    "    return print(product)\n",
    "\n",
    "         "
   ]
  },
  {
   "cell_type": "code",
   "execution_count": 32,
   "id": "02140d42-cb4c-4848-86db-71160d57d1e2",
   "metadata": {},
   "outputs": [
    {
     "name": "stdout",
     "output_type": "stream",
     "text": [
      "4134711838987085478833841242112000\n"
     ]
    }
   ],
   "source": [
    " product_of_list_int_values(l1)"
   ]
  },
  {
   "cell_type": "markdown",
   "id": "377dccb1-c52b-4111-9e79-897933b085f1",
   "metadata": {},
   "source": [
    "## Q2. Write a python program for encrypting a message sent to you by your friend. The logic of encryption should be such that, for a the output should be z. For b, the output should be y. For c, the output should be x respectively. Also, the whitespace should be replaced with a dollar sign. Keep the punctuation marks unchanged.\n",
    "### Input Sentence: I want to become a Data Scientist.\n",
    "### Encrypt the above input sentence using the program you just created.\n",
    "#### Note: Convert the given input sentence into lowercase before encrypting. The final output should be lowercase.\n",
    "#### Answer:\n"
   ]
  },
  {
   "cell_type": "code",
   "execution_count": 33,
   "id": "35bc7c69-4f83-4af2-bf9c-704ad36a990b",
   "metadata": {},
   "outputs": [],
   "source": [
    "def encrypt_message(message):\n",
    "    message = message.lower()\n",
    "    encrypted = ''\n",
    "    for i in message:\n",
    "        if i.isalpha():\n",
    "            encrypted = encrypted + chr(ord('a') + (ord('z') - ord(i)))\n",
    "        elif i.isspace():\n",
    "            encrypted = encrypted + '$'\n",
    "        else:\n",
    "            encrypted = encrypted +i\n",
    "    return encrypted\n"
   ]
  },
  {
   "cell_type": "code",
   "execution_count": 34,
   "id": "afe33b1a-10da-4e3e-a1c4-558d0680c295",
   "metadata": {},
   "outputs": [
    {
     "name": "stdout",
     "output_type": "stream",
     "text": [
      "This is Encrypted Message : r$dzmg$gl$yvxlnv$z$wzgz$hxrvmgrhg.\n"
     ]
    }
   ],
   "source": [
    "input_sentence = 'I want to become a Data Scientist.'\n",
    "encrypted_message = encrypt_message(input_sentence)\n",
    "print(\"This is Encrypted Message :\",encrypted_message)"
   ]
  },
  {
   "cell_type": "code",
   "execution_count": null,
   "id": "b7e72c10-d19d-494b-8236-a05ac6d69b7f",
   "metadata": {},
   "outputs": [],
   "source": []
  },
  {
   "cell_type": "code",
   "execution_count": null,
   "id": "34cf0b9a-756b-458f-9f87-a56820f6f022",
   "metadata": {},
   "outputs": [],
   "source": []
  },
  {
   "cell_type": "code",
   "execution_count": null,
   "id": "9b767275-60a5-4470-b045-9de57af711ef",
   "metadata": {},
   "outputs": [],
   "source": []
  }
 ],
 "metadata": {
  "kernelspec": {
   "display_name": "Python 3 (ipykernel)",
   "language": "python",
   "name": "python3"
  },
  "language_info": {
   "codemirror_mode": {
    "name": "ipython",
    "version": 3
   },
   "file_extension": ".py",
   "mimetype": "text/x-python",
   "name": "python",
   "nbconvert_exporter": "python",
   "pygments_lexer": "ipython3",
   "version": "3.10.8"
  }
 },
 "nbformat": 4,
 "nbformat_minor": 5
}
